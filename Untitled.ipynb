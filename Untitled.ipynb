{
 "cells": [
  {
   "cell_type": "code",
   "execution_count": 1,
   "id": "e4149424",
   "metadata": {},
   "outputs": [],
   "source": [
    "import os\n",
    "import music21 as m21\n",
    "import numpy as np\n",
    "import matplotlib.pyplot as plt"
   ]
  },
  {
   "cell_type": "code",
   "execution_count": 2,
   "id": "008a30ed",
   "metadata": {},
   "outputs": [],
   "source": [
    "#os.chdir('../../')"
   ]
  },
  {
   "cell_type": "code",
   "execution_count": 3,
   "id": "327264e4",
   "metadata": {},
   "outputs": [],
   "source": [
    "# Distance = summation(for i = 1 to n, |min(pi - ch)|)\n",
    "# pi -> note in a bar\n",
    "# ch - > component note of a specific chord"
   ]
  },
  {
   "cell_type": "code",
   "execution_count": 4,
   "id": "0fc44cf2",
   "metadata": {},
   "outputs": [],
   "source": [
    "MIDI_FILE = 'mel_0.9.mid'\n",
    "song = m21.converter.parse(MIDI_FILE)"
   ]
  },
  {
   "cell_type": "code",
   "execution_count": 5,
   "id": "4b6bf10f",
   "metadata": {},
   "outputs": [
    {
     "data": {
      "text/plain": [
       "<music21.stream.Score 0x1c614866ed0>"
      ]
     },
     "execution_count": 5,
     "metadata": {},
     "output_type": "execute_result"
    }
   ],
   "source": [
    "song"
   ]
  },
  {
   "cell_type": "code",
   "execution_count": 6,
   "id": "d005e9d5",
   "metadata": {},
   "outputs": [],
   "source": [
    "def transpose(song):\n",
    "    # get key from the song\n",
    "    parts = song.getElementsByClass(m21.stream.Part)\n",
    "    measures_part0 = parts[0].getElementsByClass(m21.stream.Measure)\n",
    "    key = measures_part0[0][4]\n",
    "\n",
    "    # estimate key using music21\n",
    "    if not isinstance(key, m21.key.Key):\n",
    "        key = song.analyze(\"key\")\n",
    "\n",
    "    # get interval for transposition. E.g., Bmaj -> Cmaj\n",
    "    if key.mode == \"major\":\n",
    "        interval = m21.interval.Interval(key.tonic, m21.pitch.Pitch(\"C\"))\n",
    "    elif key.mode == \"minor\":\n",
    "        interval = m21.interval.Interval(key.tonic, m21.pitch.Pitch(\"A\"))\n",
    "\n",
    "    # transpose song by calculated interval\n",
    "    tranposed_song = song.transpose(interval)\n",
    "    return tranposed_song"
   ]
  },
  {
   "cell_type": "code",
   "execution_count": 7,
   "id": "2e5a1eda",
   "metadata": {},
   "outputs": [],
   "source": [
    "song = transpose(song)"
   ]
  },
  {
   "cell_type": "code",
   "execution_count": 8,
   "id": "5b37112d",
   "metadata": {},
   "outputs": [
    {
     "data": {
      "text/plain": [
       "<music21.stream.Score 0x1c6150e0e50>"
      ]
     },
     "execution_count": 8,
     "metadata": {},
     "output_type": "execute_result"
    }
   ],
   "source": [
    "song"
   ]
  },
  {
   "cell_type": "code",
   "execution_count": 9,
   "id": "ab9f24cf",
   "metadata": {},
   "outputs": [],
   "source": [
    "chord_dict = {\n",
    "    1: [[60,72],[64,76],[67,79]],\n",
    "    2: [[62,74],[65,77],[69,81]],\n",
    "    3: [[64,76],[67,79],[71,83]],\n",
    "    4: [[65,77],[69,81],[72,84]],\n",
    "    5: [[67,79],[69,81],[74,86]],\n",
    "    6: [[69,81],[72,84],[76,88]],\n",
    "}"
   ]
  },
  {
   "cell_type": "code",
   "execution_count": 10,
   "id": "12525b4f",
   "metadata": {},
   "outputs": [],
   "source": [
    "# Chord Distance"
   ]
  },
  {
   "cell_type": "code",
   "execution_count": 11,
   "id": "8cfa8892",
   "metadata": {},
   "outputs": [],
   "source": [
    "def encode_song(song, time_step=0.25):\n",
    "    encoded_song = []\n",
    "\n",
    "    for event in song.flat.notesAndRests:\n",
    "\n",
    "        # handle notes\n",
    "        if isinstance(event, m21.note.Note):\n",
    "            symbol = event.pitch.midi # 60\n",
    "        # handle rests\n",
    "        elif isinstance(event, m21.note.Rest):\n",
    "            continue\n",
    "\n",
    "        # convert the note/rest into time series notation\n",
    "        steps = int(event.duration.quarterLength / time_step)\n",
    "        for step in range(steps):\n",
    "\n",
    "            # if it's the first time we see a note/rest, let's encode it. Otherwise, it means we're carrying the same\n",
    "            # symbol in a new time step\n",
    "            if step == 0:\n",
    "                encoded_song.append(symbol)\n",
    "            else:\n",
    "                encoded_song.append(symbol)\n",
    "\n",
    "    # cast encoded song to str\n",
    "    \n",
    "\n",
    "    return encoded_song"
   ]
  },
  {
   "cell_type": "code",
   "execution_count": 12,
   "id": "2723bcf1",
   "metadata": {},
   "outputs": [],
   "source": [
    "'''chord_dict = {\n",
    "    1: [[60,72],[64,76],[67,79]],\n",
    "    2: [[62,74],[65,77],[69,81]],\n",
    "    3: [[64,76],[67,79],[71,83]],\n",
    "    4: [[65,77],[69,81],[72,84]],\n",
    "    5: [[67,79],[69,81],[74,86]],\n",
    "    6: [[69,81],[72,84],[76,88]],\n",
    "}'''\n",
    "def distance_with_chords(song):\n",
    "    distance = []\n",
    "    min_distance = 999\n",
    "    distance_total = []\n",
    "    total = 0\n",
    "    for key in chord_dict:\n",
    "        for event in song:\n",
    "            min_distance = min(abs(event-chord_dict[key][0][0]),abs(event-chord_dict[key][0][1]),abs(event-chord_dict[key][1][0]),abs(event-chord_dict[key][1][1]),abs(event-chord_dict[key][2][0]),abs(event-chord_dict[key][2][1]))\n",
    "                                      \n",
    "        \n",
    "        distance_total.append(min_distance)\n",
    "        total = 0\n",
    "    return distance_total\n",
    "   \n",
    "    "
   ]
  },
  {
   "cell_type": "code",
   "execution_count": 13,
   "id": "f615dc22",
   "metadata": {},
   "outputs": [],
   "source": [
    "s = encode_song(song)"
   ]
  },
  {
   "cell_type": "code",
   "execution_count": 14,
   "id": "890b3292",
   "metadata": {},
   "outputs": [],
   "source": [
    "p = [74, 74, 72, 69, 69, 69, 71, 71]"
   ]
  },
  {
   "cell_type": "code",
   "execution_count": 15,
   "id": "eadc4981",
   "metadata": {},
   "outputs": [],
   "source": [
    "d = distance_with_chords(p)"
   ]
  },
  {
   "cell_type": "code",
   "execution_count": 16,
   "id": "93433f40",
   "metadata": {},
   "outputs": [
    {
     "data": {
      "text/plain": [
       "[1, 2, 0, 1, 2, 1]"
      ]
     },
     "execution_count": 16,
     "metadata": {},
     "output_type": "execute_result"
    }
   ],
   "source": [
    "d"
   ]
  },
  {
   "cell_type": "code",
   "execution_count": 17,
   "id": "b217d7cd",
   "metadata": {},
   "outputs": [
    {
     "data": {
      "text/plain": [
       "230"
      ]
     },
     "execution_count": 17,
     "metadata": {},
     "output_type": "execute_result"
    }
   ],
   "source": [
    "len(s)\n"
   ]
  },
  {
   "cell_type": "code",
   "execution_count": 18,
   "id": "f106e0d1",
   "metadata": {},
   "outputs": [
    {
     "data": {
      "text/plain": [
       "6"
      ]
     },
     "execution_count": 18,
     "metadata": {},
     "output_type": "execute_result"
    }
   ],
   "source": [
    "len(d)"
   ]
  },
  {
   "cell_type": "code",
   "execution_count": 19,
   "id": "3ddcaa4e",
   "metadata": {},
   "outputs": [],
   "source": [
    "# HitRatio\n"
   ]
  },
  {
   "cell_type": "code",
   "execution_count": 25,
   "id": "9d65c223",
   "metadata": {},
   "outputs": [],
   "source": [
    "def hit_ratio(p):\n",
    "    count_hit = []\n",
    "    list_ratio = []\n",
    "    count = 0\n",
    "    for key in chord_dict:\n",
    "        for event in p:\n",
    "            for i in chord_dict[key]:\n",
    "                if event in i:\n",
    "                    count +=1\n",
    "        count_hit.append(count)\n",
    "        count = 0\n",
    "    l = len(p)\n",
    "    print(p)\n",
    "    for i in count_hit:\n",
    "        list_ratio.append(i/l)\n",
    "    return list_ratio\n",
    "        \n",
    "         "
   ]
  },
  {
   "cell_type": "code",
   "execution_count": 26,
   "id": "9f80f49a",
   "metadata": {},
   "outputs": [
    {
     "name": "stdout",
     "output_type": "stream",
     "text": [
      "[74, 74, 72, 69, 69, 69, 71, 71]\n"
     ]
    },
    {
     "data": {
      "text/plain": [
       "[0.125, 0.625, 0.25, 0.5, 0.625, 0.5]"
      ]
     },
     "execution_count": 26,
     "metadata": {},
     "output_type": "execute_result"
    }
   ],
   "source": [
    "hit_ratio(p)"
   ]
  },
  {
   "cell_type": "code",
   "execution_count": 22,
   "id": "a2da7599",
   "metadata": {},
   "outputs": [],
   "source": [
    "# Determining one-two chords in a given bar"
   ]
  },
  {
   "cell_type": "code",
   "execution_count": 27,
   "id": "dc16215a",
   "metadata": {},
   "outputs": [],
   "source": [
    "from music21 import converter, instrument, stream"
   ]
  },
  {
   "cell_type": "code",
   "execution_count": 28,
   "id": "91ec817b",
   "metadata": {},
   "outputs": [],
   "source": [
    "MIDI_FILE = MIDI_FILE"
   ]
  },
  {
   "cell_type": "code",
   "execution_count": 29,
   "id": "fd70a252",
   "metadata": {},
   "outputs": [],
   "source": [
    "song = converter.parse(MIDI_FILE)"
   ]
  },
  {
   "cell_type": "code",
   "execution_count": 32,
   "id": "0a28ea27",
   "metadata": {},
   "outputs": [],
   "source": [
    "time_signature = song.recurse()"
   ]
  },
  {
   "cell_type": "code",
   "execution_count": 34,
   "id": "37e27ed1",
   "metadata": {},
   "outputs": [
    {
     "ename": "AttributeError",
     "evalue": "'RecursiveIterator' object has no attribute 'myPart'",
     "output_type": "error",
     "traceback": [
      "\u001b[1;31m---------------------------------------------------------------------------\u001b[0m",
      "\u001b[1;31mAttributeError\u001b[0m                            Traceback (most recent call last)",
      "Cell \u001b[1;32mIn[34], line 1\u001b[0m\n\u001b[1;32m----> 1\u001b[0m time_signature \u001b[38;5;241m=\u001b[39m \u001b[43mtime_signature\u001b[49m\u001b[38;5;241;43m.\u001b[39;49m\u001b[43mmyPart\u001b[49m[music21\u001b[38;5;241m.\u001b[39mmeter\u001b[38;5;241m.\u001b[39mTimeSignature][\u001b[38;5;241m0\u001b[39m]\n",
      "File \u001b[1;32mC:\\Python311\\Lib\\site-packages\\music21\\stream\\iterator.py:315\u001b[0m, in \u001b[0;36mStreamIterator.__getattr__\u001b[1;34m(self, attr)\u001b[0m\n\u001b[0;32m    311\u001b[0m     \u001b[38;5;28;01mreturn\u001b[39;00m \u001b[38;5;28;01mNone\u001b[39;00m\n\u001b[0;32m    313\u001b[0m \u001b[38;5;28;01mif\u001b[39;00m \u001b[38;5;129;01mnot\u001b[39;00m \u001b[38;5;28mhasattr\u001b[39m(\u001b[38;5;28mself\u001b[39m\u001b[38;5;241m.\u001b[39msrcStream, attr):\n\u001b[0;32m    314\u001b[0m     \u001b[38;5;66;03m# original stream did not have the attribute, so new won't; but raise on iterator.\u001b[39;00m\n\u001b[1;32m--> 315\u001b[0m     \u001b[38;5;28;01mraise\u001b[39;00m \u001b[38;5;167;01mAttributeError\u001b[39;00m(\u001b[38;5;124mf\u001b[39m\u001b[38;5;124m'\u001b[39m\u001b[38;5;132;01m{\u001b[39;00m\u001b[38;5;28mself\u001b[39m\u001b[38;5;241m.\u001b[39m\u001b[38;5;18m__class__\u001b[39m\u001b[38;5;241m.\u001b[39m\u001b[38;5;18m__name__\u001b[39m\u001b[38;5;132;01m!r}\u001b[39;00m\u001b[38;5;124m object has no attribute \u001b[39m\u001b[38;5;132;01m{\u001b[39;00mattr\u001b[38;5;132;01m!r}\u001b[39;00m\u001b[38;5;124m'\u001b[39m)\n\u001b[0;32m    317\u001b[0m warnings\u001b[38;5;241m.\u001b[39mwarn(\n\u001b[0;32m    318\u001b[0m     attr \u001b[38;5;241m+\u001b[39m \u001b[38;5;124m'\u001b[39m\u001b[38;5;124m is not defined on StreamIterators. Call .stream() first for efficiency\u001b[39m\u001b[38;5;124m'\u001b[39m,\n\u001b[0;32m    319\u001b[0m     StreamIteratorInefficientWarning,\n\u001b[0;32m    320\u001b[0m     stacklevel\u001b[38;5;241m=\u001b[39m\u001b[38;5;241m2\u001b[39m)\n\u001b[0;32m    322\u001b[0m sOut \u001b[38;5;241m=\u001b[39m \u001b[38;5;28mself\u001b[39m\u001b[38;5;241m.\u001b[39mstream()\n",
      "\u001b[1;31mAttributeError\u001b[0m: 'RecursiveIterator' object has no attribute 'myPart'"
     ]
    }
   ],
   "source": [
    "time_signature = time_signature.myPart[music21.meter.TimeSignature][0]"
   ]
  },
  {
   "cell_type": "code",
   "execution_count": 3,
   "id": "e8ab40e6",
   "metadata": {},
   "outputs": [],
   "source": [
    "MIDI_PATH = 'piano/pianoscore_0.mid'"
   ]
  },
  {
   "cell_type": "code",
   "execution_count": 6,
   "id": "88bea4d8",
   "metadata": {},
   "outputs": [],
   "source": [
    "from music21 import converter, corpus, instrument, midi, note, chord, pitch, stream"
   ]
  },
  {
   "cell_type": "code",
   "execution_count": 7,
   "id": "dbeed20b",
   "metadata": {},
   "outputs": [
    {
     "ename": "AttributeError",
     "evalue": "module 'music21.midi' has no attribute 'parts'",
     "output_type": "error",
     "traceback": [
      "\u001b[1;31m---------------------------------------------------------------------------\u001b[0m",
      "\u001b[1;31mAttributeError\u001b[0m                            Traceback (most recent call last)",
      "Cell \u001b[1;32mIn[7], line 6\u001b[0m\n\u001b[0;32m      4\u001b[0m         aux \u001b[38;5;241m=\u001b[39m p\n\u001b[0;32m      5\u001b[0m         \u001b[38;5;28mprint\u001b[39m(p\u001b[38;5;241m.\u001b[39mpartName)\n\u001b[1;32m----> 6\u001b[0m \u001b[43mlist_path\u001b[49m\u001b[43m(\u001b[49m\u001b[43mMIDI_PATH\u001b[49m\u001b[43m)\u001b[49m\n",
      "Cell \u001b[1;32mIn[7], line 2\u001b[0m, in \u001b[0;36mlist_path\u001b[1;34m(mid)\u001b[0m\n\u001b[0;32m      1\u001b[0m \u001b[38;5;28;01mdef\u001b[39;00m \u001b[38;5;21mlist_path\u001b[39m(mid):\n\u001b[1;32m----> 2\u001b[0m     part_stream \u001b[38;5;241m=\u001b[39m \u001b[43mmidi\u001b[49m\u001b[38;5;241;43m.\u001b[39;49m\u001b[43mparts\u001b[49m\u001b[38;5;241m.\u001b[39mstream()\n\u001b[0;32m      3\u001b[0m     \u001b[38;5;28;01mfor\u001b[39;00m p \u001b[38;5;129;01min\u001b[39;00m partStream:\n\u001b[0;32m      4\u001b[0m         aux \u001b[38;5;241m=\u001b[39m p\n",
      "\u001b[1;31mAttributeError\u001b[0m: module 'music21.midi' has no attribute 'parts'"
     ]
    }
   ],
   "source": [
    "def list_path(mid):\n",
    "    part_stream = midi.parts.stream()\n",
    "    for p in partStream:\n",
    "        aux = p\n",
    "        print(p.partName)\n",
    "list_path(MIDI_PATH)"
   ]
  },
  {
   "cell_type": "code",
   "execution_count": 8,
   "id": "29b39eea",
   "metadata": {},
   "outputs": [],
   "source": [
    "song = converter.parse(MIDI_PATH)"
   ]
  },
  {
   "cell_type": "code",
   "execution_count": 10,
   "id": "6bc60914",
   "metadata": {},
   "outputs": [
    {
     "ename": "AttributeError",
     "evalue": "module 'music21.stream' has no attribute 'parts'",
     "output_type": "error",
     "traceback": [
      "\u001b[1;31m---------------------------------------------------------------------------\u001b[0m",
      "\u001b[1;31mAttributeError\u001b[0m                            Traceback (most recent call last)",
      "Cell \u001b[1;32mIn[10], line 1\u001b[0m\n\u001b[1;32m----> 1\u001b[0m s \u001b[38;5;241m=\u001b[39m \u001b[43mstream\u001b[49m\u001b[38;5;241;43m.\u001b[39;49m\u001b[43mparts\u001b[49m()\n",
      "\u001b[1;31mAttributeError\u001b[0m: module 'music21.stream' has no attribute 'parts'"
     ]
    }
   ],
   "source": [
    "s = stream.parts()"
   ]
  },
  {
   "cell_type": "code",
   "execution_count": 1,
   "id": "f590bcfd",
   "metadata": {},
   "outputs": [
    {
     "ename": "ModuleNotFoundError",
     "evalue": "No module named 'fastai'",
     "output_type": "error",
     "traceback": [
      "\u001b[1;31m---------------------------------------------------------------------------\u001b[0m",
      "\u001b[1;31mModuleNotFoundError\u001b[0m                       Traceback (most recent call last)",
      "\u001b[1;32m~\\AppData\\Local\\Temp/ipykernel_13616/659534065.py\u001b[0m in \u001b[0;36m<module>\u001b[1;34m\u001b[0m\n\u001b[0;32m      1\u001b[0m \u001b[1;32mfrom\u001b[0m \u001b[0mmusicautobot\u001b[0m\u001b[1;33m.\u001b[0m\u001b[0mnumpy_encode\u001b[0m \u001b[1;32mimport\u001b[0m \u001b[1;33m*\u001b[0m\u001b[1;33m\u001b[0m\u001b[1;33m\u001b[0m\u001b[0m\n\u001b[1;32m----> 2\u001b[1;33m \u001b[1;32mfrom\u001b[0m \u001b[0mmusicautobot\u001b[0m\u001b[1;33m.\u001b[0m\u001b[0mconfig\u001b[0m \u001b[1;32mimport\u001b[0m \u001b[1;33m*\u001b[0m\u001b[1;33m\u001b[0m\u001b[1;33m\u001b[0m\u001b[0m\n\u001b[0m\u001b[0;32m      3\u001b[0m \u001b[1;32mfrom\u001b[0m \u001b[0mmusicautobot\u001b[0m\u001b[1;33m.\u001b[0m\u001b[0mmusic_transformer\u001b[0m \u001b[1;32mimport\u001b[0m \u001b[1;33m*\u001b[0m\u001b[1;33m\u001b[0m\u001b[1;33m\u001b[0m\u001b[0m\n\u001b[0;32m      4\u001b[0m \u001b[1;32mfrom\u001b[0m \u001b[0mmusicautobot\u001b[0m\u001b[1;33m.\u001b[0m\u001b[0mmultitask_transformer\u001b[0m \u001b[1;32mimport\u001b[0m \u001b[1;33m*\u001b[0m\u001b[1;33m\u001b[0m\u001b[1;33m\u001b[0m\u001b[0m\n\u001b[0;32m      5\u001b[0m \u001b[1;32mfrom\u001b[0m \u001b[0mmusicautobot\u001b[0m\u001b[1;33m.\u001b[0m\u001b[0mutils\u001b[0m \u001b[1;32mimport\u001b[0m \u001b[0mmidifile\u001b[0m\u001b[1;33m\u001b[0m\u001b[1;33m\u001b[0m\u001b[0m\n",
      "\u001b[1;32mc:\\users\\crazy\\appdata\\local\\programs\\python\\python39\\lib\\site-packages\\musicautobot\\config.py\u001b[0m in \u001b[0;36m<module>\u001b[1;34m\u001b[0m\n\u001b[1;32m----> 1\u001b[1;33m \u001b[1;32mfrom\u001b[0m \u001b[0mfastai\u001b[0m\u001b[1;33m.\u001b[0m\u001b[0mtext\u001b[0m\u001b[1;33m.\u001b[0m\u001b[0mmodels\u001b[0m\u001b[1;33m.\u001b[0m\u001b[0mtransformer\u001b[0m \u001b[1;32mimport\u001b[0m \u001b[0mtfmerXL_lm_config\u001b[0m\u001b[1;33m,\u001b[0m \u001b[0mActivation\u001b[0m\u001b[1;33m\u001b[0m\u001b[1;33m\u001b[0m\u001b[0m\n\u001b[0m\u001b[0;32m      2\u001b[0m \u001b[1;31m# from .vocab import MusicVocab\u001b[0m\u001b[1;33m\u001b[0m\u001b[1;33m\u001b[0m\u001b[1;33m\u001b[0m\u001b[0m\n\u001b[0;32m      3\u001b[0m \u001b[1;33m\u001b[0m\u001b[0m\n\u001b[0;32m      4\u001b[0m \u001b[1;32mdef\u001b[0m \u001b[0mdefault_config\u001b[0m\u001b[1;33m(\u001b[0m\u001b[1;33m)\u001b[0m\u001b[1;33m:\u001b[0m\u001b[1;33m\u001b[0m\u001b[1;33m\u001b[0m\u001b[0m\n\u001b[0;32m      5\u001b[0m     \u001b[0mconfig\u001b[0m \u001b[1;33m=\u001b[0m \u001b[0mtfmerXL_lm_config\u001b[0m\u001b[1;33m.\u001b[0m\u001b[0mcopy\u001b[0m\u001b[1;33m(\u001b[0m\u001b[1;33m)\u001b[0m\u001b[1;33m\u001b[0m\u001b[1;33m\u001b[0m\u001b[0m\n",
      "\u001b[1;31mModuleNotFoundError\u001b[0m: No module named 'fastai'"
     ]
    }
   ],
   "source": [
    "from musicautobot.numpy_encode import *\n",
    "from musicautobot.config import *\n",
    "from musicautobot.music_transformer import *\n",
    "from musicautobot.multitask_transformer import *\n",
    "from musicautobot.utils import midifile"
   ]
  },
  {
   "cell_type": "code",
   "execution_count": 6,
   "id": "e2538689",
   "metadata": {},
   "outputs": [
    {
     "name": "stdout",
     "output_type": "stream",
     "text": [
      "Requirement already satisfied: fastai in c:\\users\\crazy\\appdata\\local\\programs\\python\\python310\\lib\\site-packages (2.7.12)\n",
      "Requirement already satisfied: pip in c:\\users\\crazy\\appdata\\local\\programs\\python\\python310\\lib\\site-packages (from fastai) (23.1.2)\n",
      "Requirement already satisfied: packaging in c:\\users\\crazy\\appdata\\local\\programs\\python\\python310\\lib\\site-packages (from fastai) (23.1)\n",
      "Requirement already satisfied: fastdownload<2,>=0.0.5 in c:\\users\\crazy\\appdata\\local\\programs\\python\\python310\\lib\\site-packages (from fastai) (0.0.7)\n",
      "Requirement already satisfied: fastcore<1.6,>=1.5.29 in c:\\users\\crazy\\appdata\\local\\programs\\python\\python310\\lib\\site-packages (from fastai) (1.5.29)\n",
      "Requirement already satisfied: torchvision>=0.8.2 in c:\\users\\crazy\\appdata\\local\\programs\\python\\python310\\lib\\site-packages (from fastai) (0.15.2)\n",
      "Requirement already satisfied: matplotlib in c:\\users\\crazy\\appdata\\local\\programs\\python\\python310\\lib\\site-packages (from fastai) (3.7.1)\n",
      "Requirement already satisfied: pandas in c:\\users\\crazy\\appdata\\local\\programs\\python\\python310\\lib\\site-packages (from fastai) (2.0.2)\n",
      "Requirement already satisfied: requests in c:\\users\\crazy\\appdata\\local\\programs\\python\\python310\\lib\\site-packages (from fastai) (2.31.0)\n",
      "Requirement already satisfied: pyyaml in c:\\users\\crazy\\appdata\\local\\programs\\python\\python310\\lib\\site-packages (from fastai) (6.0)\n",
      "Requirement already satisfied: fastprogress>=0.2.4 in c:\\users\\crazy\\appdata\\local\\programs\\python\\python310\\lib\\site-packages (from fastai) (1.0.3)\n",
      "Requirement already satisfied: pillow>6.0.0 in c:\\users\\crazy\\appdata\\local\\programs\\python\\python310\\lib\\site-packages (from fastai) (9.5.0)\n",
      "Requirement already satisfied: scikit-learn in c:\\users\\crazy\\appdata\\local\\programs\\python\\python310\\lib\\site-packages (from fastai) (1.2.2)\n",
      "Requirement already satisfied: scipy in c:\\users\\crazy\\appdata\\local\\programs\\python\\python310\\lib\\site-packages (from fastai) (1.11.0)\n",
      "Requirement already satisfied: spacy<4 in c:\\users\\crazy\\appdata\\local\\programs\\python\\python310\\lib\\site-packages (from fastai) (3.5.4)\n",
      "Requirement already satisfied: torch<2.1,>=1.7 in c:\\users\\crazy\\appdata\\local\\programs\\python\\python310\\lib\\site-packages (from fastai) (2.0.1)\n",
      "Requirement already satisfied: spacy-legacy<3.1.0,>=3.0.11 in c:\\users\\crazy\\appdata\\local\\programs\\python\\python310\\lib\\site-packages (from spacy<4->fastai) (3.0.12)\n",
      "Requirement already satisfied: spacy-loggers<2.0.0,>=1.0.0 in c:\\users\\crazy\\appdata\\local\\programs\\python\\python310\\lib\\site-packages (from spacy<4->fastai) (1.0.4)\n",
      "Requirement already satisfied: murmurhash<1.1.0,>=0.28.0 in c:\\users\\crazy\\appdata\\local\\programs\\python\\python310\\lib\\site-packages (from spacy<4->fastai) (1.0.9)\n",
      "Requirement already satisfied: cymem<2.1.0,>=2.0.2 in c:\\users\\crazy\\appdata\\local\\programs\\python\\python310\\lib\\site-packages (from spacy<4->fastai) (2.0.7)\n",
      "Requirement already satisfied: preshed<3.1.0,>=3.0.2 in c:\\users\\crazy\\appdata\\local\\programs\\python\\python310\\lib\\site-packages (from spacy<4->fastai) (3.0.8)\n",
      "Requirement already satisfied: thinc<8.2.0,>=8.1.8 in c:\\users\\crazy\\appdata\\local\\programs\\python\\python310\\lib\\site-packages (from spacy<4->fastai) (8.1.10)\n",
      "Requirement already satisfied: wasabi<1.2.0,>=0.9.1 in c:\\users\\crazy\\appdata\\local\\programs\\python\\python310\\lib\\site-packages (from spacy<4->fastai) (1.1.2)\n",
      "Requirement already satisfied: srsly<3.0.0,>=2.4.3 in c:\\users\\crazy\\appdata\\local\\programs\\python\\python310\\lib\\site-packages (from spacy<4->fastai) (2.4.6)\n",
      "Requirement already satisfied: catalogue<2.1.0,>=2.0.6 in c:\\users\\crazy\\appdata\\local\\programs\\python\\python310\\lib\\site-packages (from spacy<4->fastai) (2.0.8)\n",
      "Requirement already satisfied: typer<0.10.0,>=0.3.0 in c:\\users\\crazy\\appdata\\local\\programs\\python\\python310\\lib\\site-packages (from spacy<4->fastai) (0.9.0)\n",
      "Requirement already satisfied: pathy>=0.10.0 in c:\\users\\crazy\\appdata\\local\\programs\\python\\python310\\lib\\site-packages (from spacy<4->fastai) (0.10.2)\n",
      "Requirement already satisfied: smart-open<7.0.0,>=5.2.1 in c:\\users\\crazy\\appdata\\local\\programs\\python\\python310\\lib\\site-packages (from spacy<4->fastai) (6.3.0)\n",
      "Requirement already satisfied: tqdm<5.0.0,>=4.38.0 in c:\\users\\crazy\\appdata\\local\\programs\\python\\python310\\lib\\site-packages (from spacy<4->fastai) (4.65.0)\n",
      "Requirement already satisfied: numpy>=1.15.0 in c:\\users\\crazy\\appdata\\local\\programs\\python\\python310\\lib\\site-packages (from spacy<4->fastai) (1.23.5)\n",
      "Requirement already satisfied: pydantic!=1.8,!=1.8.1,<1.11.0,>=1.7.4 in c:\\users\\crazy\\appdata\\local\\programs\\python\\python310\\lib\\site-packages (from spacy<4->fastai) (1.10.9)\n",
      "Requirement already satisfied: jinja2 in c:\\users\\crazy\\appdata\\local\\programs\\python\\python310\\lib\\site-packages (from spacy<4->fastai) (3.1.2)\n",
      "Requirement already satisfied: setuptools in c:\\users\\crazy\\appdata\\local\\programs\\python\\python310\\lib\\site-packages (from spacy<4->fastai) (65.5.0)\n",
      "Requirement already satisfied: langcodes<4.0.0,>=3.2.0 in c:\\users\\crazy\\appdata\\local\\programs\\python\\python310\\lib\\site-packages (from spacy<4->fastai) (3.3.0)\n",
      "Requirement already satisfied: charset-normalizer<4,>=2 in c:\\users\\crazy\\appdata\\local\\programs\\python\\python310\\lib\\site-packages (from requests->fastai) (3.1.0)\n",
      "Requirement already satisfied: idna<4,>=2.5 in c:\\users\\crazy\\appdata\\local\\programs\\python\\python310\\lib\\site-packages (from requests->fastai) (3.4)\n",
      "Requirement already satisfied: urllib3<3,>=1.21.1 in c:\\users\\crazy\\appdata\\local\\programs\\python\\python310\\lib\\site-packages (from requests->fastai) (1.26.16)\n",
      "Requirement already satisfied: certifi>=2017.4.17 in c:\\users\\crazy\\appdata\\local\\programs\\python\\python310\\lib\\site-packages (from requests->fastai) (2023.5.7)\n",
      "Requirement already satisfied: filelock in c:\\users\\crazy\\appdata\\local\\programs\\python\\python310\\lib\\site-packages (from torch<2.1,>=1.7->fastai) (3.12.2)\n",
      "Requirement already satisfied: typing-extensions in c:\\users\\crazy\\appdata\\local\\programs\\python\\python310\\lib\\site-packages (from torch<2.1,>=1.7->fastai) (4.6.3)\n",
      "Requirement already satisfied: sympy in c:\\users\\crazy\\appdata\\local\\programs\\python\\python310\\lib\\site-packages (from torch<2.1,>=1.7->fastai) (1.12)\n",
      "Requirement already satisfied: networkx in c:\\users\\crazy\\appdata\\local\\programs\\python\\python310\\lib\\site-packages (from torch<2.1,>=1.7->fastai) (3.1)\n",
      "Requirement already satisfied: contourpy>=1.0.1 in c:\\users\\crazy\\appdata\\local\\programs\\python\\python310\\lib\\site-packages (from matplotlib->fastai) (1.1.0)\n",
      "Requirement already satisfied: cycler>=0.10 in c:\\users\\crazy\\appdata\\local\\programs\\python\\python310\\lib\\site-packages (from matplotlib->fastai) (0.11.0)\n",
      "Requirement already satisfied: fonttools>=4.22.0 in c:\\users\\crazy\\appdata\\local\\programs\\python\\python310\\lib\\site-packages (from matplotlib->fastai) (4.40.0)\n",
      "Requirement already satisfied: kiwisolver>=1.0.1 in c:\\users\\crazy\\appdata\\local\\programs\\python\\python310\\lib\\site-packages (from matplotlib->fastai) (1.4.4)\n",
      "Requirement already satisfied: pyparsing>=2.3.1 in c:\\users\\crazy\\appdata\\local\\programs\\python\\python310\\lib\\site-packages (from matplotlib->fastai) (3.1.0)\n",
      "Requirement already satisfied: python-dateutil>=2.7 in c:\\users\\crazy\\appdata\\local\\programs\\python\\python310\\lib\\site-packages (from matplotlib->fastai) (2.8.2)\n",
      "Requirement already satisfied: pytz>=2020.1 in c:\\users\\crazy\\appdata\\local\\programs\\python\\python310\\lib\\site-packages (from pandas->fastai) (2023.3)\n",
      "Requirement already satisfied: tzdata>=2022.1 in c:\\users\\crazy\\appdata\\local\\programs\\python\\python310\\lib\\site-packages (from pandas->fastai) (2023.3)\n",
      "Requirement already satisfied: joblib>=1.1.1 in c:\\users\\crazy\\appdata\\local\\programs\\python\\python310\\lib\\site-packages (from scikit-learn->fastai) (1.3.0)\n",
      "Requirement already satisfied: threadpoolctl>=2.0.0 in c:\\users\\crazy\\appdata\\local\\programs\\python\\python310\\lib\\site-packages (from scikit-learn->fastai) (3.1.0)\n",
      "Requirement already satisfied: six>=1.5 in c:\\users\\crazy\\appdata\\local\\programs\\python\\python310\\lib\\site-packages (from python-dateutil>=2.7->matplotlib->fastai) (1.16.0)\n",
      "Requirement already satisfied: blis<0.8.0,>=0.7.8 in c:\\users\\crazy\\appdata\\local\\programs\\python\\python310\\lib\\site-packages (from thinc<8.2.0,>=8.1.8->spacy<4->fastai) (0.7.9)\n",
      "Requirement already satisfied: confection<1.0.0,>=0.0.1 in c:\\users\\crazy\\appdata\\local\\programs\\python\\python310\\lib\\site-packages (from thinc<8.2.0,>=8.1.8->spacy<4->fastai) (0.0.4)\n",
      "Requirement already satisfied: colorama in c:\\users\\crazy\\appdata\\local\\programs\\python\\python310\\lib\\site-packages (from tqdm<5.0.0,>=4.38.0->spacy<4->fastai) (0.4.6)\n",
      "Requirement already satisfied: click<9.0.0,>=7.1.1 in c:\\users\\crazy\\appdata\\local\\programs\\python\\python310\\lib\\site-packages (from typer<0.10.0,>=0.3.0->spacy<4->fastai) (8.1.3)\n",
      "Requirement already satisfied: MarkupSafe>=2.0 in c:\\users\\crazy\\appdata\\local\\programs\\python\\python310\\lib\\site-packages (from jinja2->spacy<4->fastai) (2.1.3)\n",
      "Requirement already satisfied: mpmath>=0.19 in c:\\users\\crazy\\appdata\\local\\programs\\python\\python310\\lib\\site-packages (from sympy->torch<2.1,>=1.7->fastai) (1.3.0)\n"
     ]
    }
   ],
   "source": [
    "!pip install fastai"
   ]
  },
  {
   "cell_type": "code",
   "execution_count": 5,
   "id": "c91f512e",
   "metadata": {},
   "outputs": [
    {
     "ename": "ModuleNotFoundError",
     "evalue": "No module named 'fastai'",
     "output_type": "error",
     "traceback": [
      "\u001b[1;31m---------------------------------------------------------------------------\u001b[0m",
      "\u001b[1;31mModuleNotFoundError\u001b[0m                       Traceback (most recent call last)",
      "\u001b[1;32m~\\AppData\\Local\\Temp/ipykernel_13616/2744700317.py\u001b[0m in \u001b[0;36m<module>\u001b[1;34m\u001b[0m\n\u001b[1;32m----> 1\u001b[1;33m \u001b[1;32mimport\u001b[0m \u001b[0mfastai\u001b[0m\u001b[1;33m\u001b[0m\u001b[1;33m\u001b[0m\u001b[0m\n\u001b[0m",
      "\u001b[1;31mModuleNotFoundError\u001b[0m: No module named 'fastai'"
     ]
    }
   ],
   "source": [
    "import fastai\n"
   ]
  },
  {
   "cell_type": "code",
   "execution_count": 4,
   "id": "64a688de",
   "metadata": {},
   "outputs": [
    {
     "ename": "ImportError",
     "evalue": "This version of TensorFlow Probability requires TensorFlow version >= 2.12; Detected an installation of version 2.11.1. Please upgrade TensorFlow to proceed.",
     "output_type": "error",
     "traceback": [
      "\u001b[1;31m---------------------------------------------------------------------------\u001b[0m",
      "\u001b[1;31mImportError\u001b[0m                               Traceback (most recent call last)",
      "\u001b[1;32m~\\AppData\\Local\\Temp/ipykernel_22596/2715899643.py\u001b[0m in \u001b[0;36m<module>\u001b[1;34m\u001b[0m\n\u001b[1;32m----> 1\u001b[1;33m \u001b[1;32mimport\u001b[0m \u001b[0mddsp\u001b[0m\u001b[1;33m\u001b[0m\u001b[1;33m\u001b[0m\u001b[0m\n\u001b[0m",
      "\u001b[1;32m~\\AppData\\Roaming\\Python\\Python39\\site-packages\\ddsp\\__init__.py\u001b[0m in \u001b[0;36m<module>\u001b[1;34m\u001b[0m\n\u001b[0;32m     19\u001b[0m \u001b[1;32mfrom\u001b[0m \u001b[0mddsp\u001b[0m \u001b[1;32mimport\u001b[0m \u001b[0mdags\u001b[0m\u001b[1;33m\u001b[0m\u001b[1;33m\u001b[0m\u001b[0m\n\u001b[0;32m     20\u001b[0m \u001b[1;32mfrom\u001b[0m \u001b[0mddsp\u001b[0m \u001b[1;32mimport\u001b[0m \u001b[0meffects\u001b[0m\u001b[1;33m\u001b[0m\u001b[1;33m\u001b[0m\u001b[0m\n\u001b[1;32m---> 21\u001b[1;33m \u001b[1;32mfrom\u001b[0m \u001b[0mddsp\u001b[0m \u001b[1;32mimport\u001b[0m \u001b[0mlosses\u001b[0m\u001b[1;33m\u001b[0m\u001b[1;33m\u001b[0m\u001b[0m\n\u001b[0m\u001b[0;32m     22\u001b[0m \u001b[1;32mfrom\u001b[0m \u001b[0mddsp\u001b[0m \u001b[1;32mimport\u001b[0m \u001b[0mprocessors\u001b[0m\u001b[1;33m\u001b[0m\u001b[1;33m\u001b[0m\u001b[0m\n\u001b[0;32m     23\u001b[0m \u001b[1;32mfrom\u001b[0m \u001b[0mddsp\u001b[0m \u001b[1;32mimport\u001b[0m \u001b[0mspectral_ops\u001b[0m\u001b[1;33m\u001b[0m\u001b[1;33m\u001b[0m\u001b[0m\n",
      "\u001b[1;32m~\\AppData\\Roaming\\Python\\Python39\\site-packages\\ddsp\\losses.py\u001b[0m in \u001b[0;36m<module>\u001b[1;34m\u001b[0m\n\u001b[0;32m     21\u001b[0m \u001b[1;32mfrom\u001b[0m \u001b[0mddsp\u001b[0m \u001b[1;32mimport\u001b[0m \u001b[0mcore\u001b[0m\u001b[1;33m\u001b[0m\u001b[1;33m\u001b[0m\u001b[0m\n\u001b[0;32m     22\u001b[0m \u001b[1;32mfrom\u001b[0m \u001b[0mddsp\u001b[0m \u001b[1;32mimport\u001b[0m \u001b[0mdags\u001b[0m\u001b[1;33m\u001b[0m\u001b[1;33m\u001b[0m\u001b[0m\n\u001b[1;32m---> 23\u001b[1;33m \u001b[1;32mfrom\u001b[0m \u001b[0mddsp\u001b[0m \u001b[1;32mimport\u001b[0m \u001b[0mspectral_ops\u001b[0m\u001b[1;33m\u001b[0m\u001b[1;33m\u001b[0m\u001b[0m\n\u001b[0m\u001b[0;32m     24\u001b[0m \u001b[1;32mfrom\u001b[0m \u001b[0mddsp\u001b[0m\u001b[1;33m.\u001b[0m\u001b[0mcore\u001b[0m \u001b[1;32mimport\u001b[0m \u001b[0mhz_to_midi\u001b[0m\u001b[1;33m\u001b[0m\u001b[1;33m\u001b[0m\u001b[0m\n\u001b[0;32m     25\u001b[0m \u001b[1;32mfrom\u001b[0m \u001b[0mddsp\u001b[0m\u001b[1;33m.\u001b[0m\u001b[0mcore\u001b[0m \u001b[1;32mimport\u001b[0m \u001b[0msafe_divide\u001b[0m\u001b[1;33m\u001b[0m\u001b[1;33m\u001b[0m\u001b[0m\n",
      "\u001b[1;32m~\\AppData\\Roaming\\Python\\Python39\\site-packages\\ddsp\\spectral_ops.py\u001b[0m in \u001b[0;36m<module>\u001b[1;34m\u001b[0m\n\u001b[0;32m     23\u001b[0m \u001b[1;32mimport\u001b[0m \u001b[0mnumpy\u001b[0m \u001b[1;32mas\u001b[0m \u001b[0mnp\u001b[0m\u001b[1;33m\u001b[0m\u001b[1;33m\u001b[0m\u001b[0m\n\u001b[0;32m     24\u001b[0m \u001b[1;32mimport\u001b[0m \u001b[0mtensorflow\u001b[0m\u001b[1;33m.\u001b[0m\u001b[0mcompat\u001b[0m\u001b[1;33m.\u001b[0m\u001b[0mv2\u001b[0m \u001b[1;32mas\u001b[0m \u001b[0mtf\u001b[0m\u001b[1;33m\u001b[0m\u001b[1;33m\u001b[0m\u001b[0m\n\u001b[1;32m---> 25\u001b[1;33m \u001b[1;32mimport\u001b[0m \u001b[0mtensorflow_probability\u001b[0m \u001b[1;32mas\u001b[0m \u001b[0mtfp\u001b[0m\u001b[1;33m\u001b[0m\u001b[1;33m\u001b[0m\u001b[0m\n\u001b[0m\u001b[0;32m     26\u001b[0m \u001b[1;33m\u001b[0m\u001b[0m\n\u001b[0;32m     27\u001b[0m \u001b[0mCREPE_SAMPLE_RATE\u001b[0m \u001b[1;33m=\u001b[0m \u001b[1;36m16000\u001b[0m\u001b[1;33m\u001b[0m\u001b[1;33m\u001b[0m\u001b[0m\n",
      "\u001b[1;32m~\\AppData\\Roaming\\Python\\Python39\\site-packages\\tensorflow_probability\\__init__.py\u001b[0m in \u001b[0;36m<module>\u001b[1;34m\u001b[0m\n\u001b[0;32m     21\u001b[0m \u001b[1;31m# from tensorflow_probability.google import staging  # DisableOnExport\u001b[0m\u001b[1;33m\u001b[0m\u001b[1;33m\u001b[0m\u001b[1;33m\u001b[0m\u001b[0m\n\u001b[0;32m     22\u001b[0m \u001b[1;31m# from tensorflow_probability.google import tfp_google  # DisableOnExport\u001b[0m\u001b[1;33m\u001b[0m\u001b[1;33m\u001b[0m\u001b[1;33m\u001b[0m\u001b[0m\n\u001b[1;32m---> 23\u001b[1;33m \u001b[1;32mfrom\u001b[0m \u001b[0mtensorflow_probability\u001b[0m\u001b[1;33m.\u001b[0m\u001b[0mpython\u001b[0m \u001b[1;32mimport\u001b[0m \u001b[1;33m*\u001b[0m  \u001b[1;31m# pylint: disable=wildcard-import\u001b[0m\u001b[1;33m\u001b[0m\u001b[1;33m\u001b[0m\u001b[0m\n\u001b[0m\u001b[0;32m     24\u001b[0m \u001b[1;32mfrom\u001b[0m \u001b[0mtensorflow_probability\u001b[0m\u001b[1;33m.\u001b[0m\u001b[0mpython\u001b[0m\u001b[1;33m.\u001b[0m\u001b[0mversion\u001b[0m \u001b[1;32mimport\u001b[0m \u001b[0m__version__\u001b[0m\u001b[1;33m\u001b[0m\u001b[1;33m\u001b[0m\u001b[0m\n\u001b[0;32m     25\u001b[0m \u001b[1;33m\u001b[0m\u001b[0m\n",
      "\u001b[1;32m~\\AppData\\Roaming\\Python\\Python39\\site-packages\\tensorflow_probability\\python\\__init__.py\u001b[0m in \u001b[0;36m<module>\u001b[1;34m\u001b[0m\n\u001b[0;32m    136\u001b[0m   \u001b[1;31m# Non-lazy load of packages that register with tensorflow or keras.\u001b[0m\u001b[1;33m\u001b[0m\u001b[1;33m\u001b[0m\u001b[1;33m\u001b[0m\u001b[0m\n\u001b[0;32m    137\u001b[0m   \u001b[1;32mfor\u001b[0m \u001b[0mpkg_name\u001b[0m \u001b[1;32min\u001b[0m \u001b[0m_maybe_nonlazy_load\u001b[0m\u001b[1;33m:\u001b[0m\u001b[1;33m\u001b[0m\u001b[1;33m\u001b[0m\u001b[0m\n\u001b[1;32m--> 138\u001b[1;33m     \u001b[0mdir\u001b[0m\u001b[1;33m(\u001b[0m\u001b[0mglobals\u001b[0m\u001b[1;33m(\u001b[0m\u001b[1;33m)\u001b[0m\u001b[1;33m[\u001b[0m\u001b[0mpkg_name\u001b[0m\u001b[1;33m]\u001b[0m\u001b[1;33m)\u001b[0m  \u001b[1;31m# Forces loading the package from its lazy loader.\u001b[0m\u001b[1;33m\u001b[0m\u001b[1;33m\u001b[0m\u001b[0m\n\u001b[0m\u001b[0;32m    139\u001b[0m \u001b[1;33m\u001b[0m\u001b[0m\n\u001b[0;32m    140\u001b[0m \u001b[1;33m\u001b[0m\u001b[0m\n",
      "\u001b[1;32m~\\AppData\\Roaming\\Python\\Python39\\site-packages\\tensorflow_probability\\python\\internal\\lazy_loader.py\u001b[0m in \u001b[0;36m__dir__\u001b[1;34m(self)\u001b[0m\n\u001b[0;32m     55\u001b[0m \u001b[1;33m\u001b[0m\u001b[0m\n\u001b[0;32m     56\u001b[0m   \u001b[1;32mdef\u001b[0m \u001b[0m__dir__\u001b[0m\u001b[1;33m(\u001b[0m\u001b[0mself\u001b[0m\u001b[1;33m)\u001b[0m\u001b[1;33m:\u001b[0m\u001b[1;33m\u001b[0m\u001b[1;33m\u001b[0m\u001b[0m\n\u001b[1;32m---> 57\u001b[1;33m     \u001b[0mmodule\u001b[0m \u001b[1;33m=\u001b[0m \u001b[0mself\u001b[0m\u001b[1;33m.\u001b[0m\u001b[0m_load\u001b[0m\u001b[1;33m(\u001b[0m\u001b[1;33m)\u001b[0m\u001b[1;33m\u001b[0m\u001b[1;33m\u001b[0m\u001b[0m\n\u001b[0m\u001b[0;32m     58\u001b[0m     \u001b[1;32mreturn\u001b[0m \u001b[0mdir\u001b[0m\u001b[1;33m(\u001b[0m\u001b[0mmodule\u001b[0m\u001b[1;33m)\u001b[0m\u001b[1;33m\u001b[0m\u001b[1;33m\u001b[0m\u001b[0m\n\u001b[0;32m     59\u001b[0m \u001b[1;33m\u001b[0m\u001b[0m\n",
      "\u001b[1;32m~\\AppData\\Roaming\\Python\\Python39\\site-packages\\tensorflow_probability\\python\\internal\\lazy_loader.py\u001b[0m in \u001b[0;36m_load\u001b[1;34m(self)\u001b[0m\n\u001b[0;32m     35\u001b[0m     \u001b[1;34m\"\"\"Load the module and insert it into the parent's globals.\"\"\"\u001b[0m\u001b[1;33m\u001b[0m\u001b[1;33m\u001b[0m\u001b[0m\n\u001b[0;32m     36\u001b[0m     \u001b[1;32mif\u001b[0m \u001b[0mcallable\u001b[0m\u001b[1;33m(\u001b[0m\u001b[0mself\u001b[0m\u001b[1;33m.\u001b[0m\u001b[0m_on_first_access\u001b[0m\u001b[1;33m)\u001b[0m\u001b[1;33m:\u001b[0m\u001b[1;33m\u001b[0m\u001b[1;33m\u001b[0m\u001b[0m\n\u001b[1;32m---> 37\u001b[1;33m       \u001b[0mself\u001b[0m\u001b[1;33m.\u001b[0m\u001b[0m_on_first_access\u001b[0m\u001b[1;33m(\u001b[0m\u001b[1;33m)\u001b[0m\u001b[1;33m\u001b[0m\u001b[1;33m\u001b[0m\u001b[0m\n\u001b[0m\u001b[0;32m     38\u001b[0m       \u001b[0mself\u001b[0m\u001b[1;33m.\u001b[0m\u001b[0m_on_first_access\u001b[0m \u001b[1;33m=\u001b[0m \u001b[1;32mNone\u001b[0m\u001b[1;33m\u001b[0m\u001b[1;33m\u001b[0m\u001b[0m\n\u001b[0;32m     39\u001b[0m     \u001b[1;31m# Import the target module and insert it into the parent's namespace\u001b[0m\u001b[1;33m\u001b[0m\u001b[1;33m\u001b[0m\u001b[1;33m\u001b[0m\u001b[0m\n",
      "\u001b[1;32m~\\AppData\\Roaming\\Python\\Python39\\site-packages\\tensorflow_probability\\python\\__init__.py\u001b[0m in \u001b[0;36m_validate_tf_environment\u001b[1;34m(package)\u001b[0m\n\u001b[0;32m     57\u001b[0m   if (distutils.version.LooseVersion(tf.__version__) <\n\u001b[0;32m     58\u001b[0m       distutils.version.LooseVersion(required_tensorflow_version)):\n\u001b[1;32m---> 59\u001b[1;33m     raise ImportError(\n\u001b[0m\u001b[0;32m     60\u001b[0m         \u001b[1;34m'This version of TensorFlow Probability requires TensorFlow '\u001b[0m\u001b[1;33m\u001b[0m\u001b[1;33m\u001b[0m\u001b[0m\n\u001b[0;32m     61\u001b[0m         \u001b[1;34m'version >= {required}; Detected an installation of version {present}. '\u001b[0m\u001b[1;33m\u001b[0m\u001b[1;33m\u001b[0m\u001b[0m\n",
      "\u001b[1;31mImportError\u001b[0m: This version of TensorFlow Probability requires TensorFlow version >= 2.12; Detected an installation of version 2.11.1. Please upgrade TensorFlow to proceed."
     ]
    }
   ],
   "source": [
    "import ddsp"
   ]
  },
  {
   "cell_type": "code",
   "execution_count": 6,
   "id": "eb88e0c7",
   "metadata": {},
   "outputs": [
    {
     "name": "stdout",
     "output_type": "stream",
     "text": [
      "Collecting tensorflow==2.13.0rc2\n",
      "  Downloading tensorflow-2.13.0rc2-cp310-cp310-win_amd64.whl (2.0 kB)\n",
      "Collecting tensorflow-intel==2.13.0-rc2 (from tensorflow==2.13.0rc2)\n",
      "  Downloading tensorflow_intel-2.13.0rc2-cp310-cp310-win_amd64.whl (276.5 MB)\n",
      "     -------------------------------------- 276.5/276.5 MB 1.3 MB/s eta 0:00:00\n",
      "Requirement already satisfied: absl-py>=1.0.0 in c:\\users\\crazy\\appdata\\local\\programs\\python\\python310\\lib\\site-packages (from tensorflow-intel==2.13.0-rc2->tensorflow==2.13.0rc2) (1.4.0)\n",
      "Requirement already satisfied: astunparse>=1.6.0 in c:\\users\\crazy\\appdata\\local\\programs\\python\\python310\\lib\\site-packages (from tensorflow-intel==2.13.0-rc2->tensorflow==2.13.0rc2) (1.6.3)\n",
      "Requirement already satisfied: flatbuffers>=23.1.21 in c:\\users\\crazy\\appdata\\local\\programs\\python\\python310\\lib\\site-packages (from tensorflow-intel==2.13.0-rc2->tensorflow==2.13.0rc2) (23.5.26)\n",
      "Requirement already satisfied: gast<=0.4.0,>=0.2.1 in c:\\users\\crazy\\appdata\\local\\programs\\python\\python310\\lib\\site-packages (from tensorflow-intel==2.13.0-rc2->tensorflow==2.13.0rc2) (0.4.0)\n",
      "Requirement already satisfied: google-pasta>=0.1.1 in c:\\users\\crazy\\appdata\\local\\programs\\python\\python310\\lib\\site-packages (from tensorflow-intel==2.13.0-rc2->tensorflow==2.13.0rc2) (0.2.0)\n",
      "Requirement already satisfied: h5py>=2.9.0 in c:\\users\\crazy\\appdata\\local\\programs\\python\\python310\\lib\\site-packages (from tensorflow-intel==2.13.0-rc2->tensorflow==2.13.0rc2) (3.9.0)\n",
      "Requirement already satisfied: libclang>=13.0.0 in c:\\users\\crazy\\appdata\\local\\programs\\python\\python310\\lib\\site-packages (from tensorflow-intel==2.13.0-rc2->tensorflow==2.13.0rc2) (16.0.0)\n",
      "Requirement already satisfied: numpy>=1.22 in c:\\users\\crazy\\appdata\\local\\programs\\python\\python310\\lib\\site-packages (from tensorflow-intel==2.13.0-rc2->tensorflow==2.13.0rc2) (1.23.5)\n",
      "Requirement already satisfied: opt-einsum>=2.3.2 in c:\\users\\crazy\\appdata\\local\\programs\\python\\python310\\lib\\site-packages (from tensorflow-intel==2.13.0-rc2->tensorflow==2.13.0rc2) (3.3.0)\n",
      "Requirement already satisfied: packaging in c:\\users\\crazy\\appdata\\local\\programs\\python\\python310\\lib\\site-packages (from tensorflow-intel==2.13.0-rc2->tensorflow==2.13.0rc2) (23.1)\n",
      "Requirement already satisfied: protobuf!=4.21.0,!=4.21.1,!=4.21.2,!=4.21.3,!=4.21.4,!=4.21.5,<5.0.0dev,>=3.20.3 in c:\\users\\crazy\\appdata\\local\\programs\\python\\python310\\lib\\site-packages (from tensorflow-intel==2.13.0-rc2->tensorflow==2.13.0rc2) (4.23.3)\n",
      "Requirement already satisfied: setuptools in c:\\users\\crazy\\appdata\\local\\programs\\python\\python310\\lib\\site-packages (from tensorflow-intel==2.13.0-rc2->tensorflow==2.13.0rc2) (65.5.0)\n",
      "Requirement already satisfied: six>=1.12.0 in c:\\users\\crazy\\appdata\\local\\programs\\python\\python310\\lib\\site-packages (from tensorflow-intel==2.13.0-rc2->tensorflow==2.13.0rc2) (1.16.0)\n",
      "Requirement already satisfied: termcolor>=1.1.0 in c:\\users\\crazy\\appdata\\local\\programs\\python\\python310\\lib\\site-packages (from tensorflow-intel==2.13.0-rc2->tensorflow==2.13.0rc2) (2.3.0)\n",
      "Collecting typing-extensions<4.6.0,>=3.6.6 (from tensorflow-intel==2.13.0-rc2->tensorflow==2.13.0rc2)\n",
      "  Using cached typing_extensions-4.5.0-py3-none-any.whl (27 kB)\n",
      "Requirement already satisfied: wrapt>=1.11.0 in c:\\users\\crazy\\appdata\\local\\programs\\python\\python310\\lib\\site-packages (from tensorflow-intel==2.13.0-rc2->tensorflow==2.13.0rc2) (1.14.1)\n",
      "Requirement already satisfied: grpcio<2.0,>=1.24.3 in c:\\users\\crazy\\appdata\\local\\programs\\python\\python310\\lib\\site-packages (from tensorflow-intel==2.13.0-rc2->tensorflow==2.13.0rc2) (1.56.0)\n",
      "Collecting tensorboard<2.14,>=2.13 (from tensorflow-intel==2.13.0-rc2->tensorflow==2.13.0rc2)\n",
      "  Downloading tensorboard-2.13.0-py3-none-any.whl (5.6 MB)\n",
      "     ---------------------------------------- 5.6/5.6 MB 3.9 MB/s eta 0:00:00\n",
      "Collecting tensorflow-estimator<2.14,>=2.13.0rc0 (from tensorflow-intel==2.13.0-rc2->tensorflow==2.13.0rc2)\n",
      "  Downloading tensorflow_estimator-2.13.0-py2.py3-none-any.whl (440 kB)\n",
      "     -------------------------------------- 440.8/440.8 kB 3.9 MB/s eta 0:00:00\n",
      "Collecting keras<2.14,>=2.13.1rc0 (from tensorflow-intel==2.13.0-rc2->tensorflow==2.13.0rc2)\n",
      "  Downloading keras-2.13.1-py3-none-any.whl (1.7 MB)\n",
      "     ---------------------------------------- 1.7/1.7 MB 3.7 MB/s eta 0:00:00\n",
      "Requirement already satisfied: tensorflow-io-gcs-filesystem>=0.23.1 in c:\\users\\crazy\\appdata\\local\\programs\\python\\python310\\lib\\site-packages (from tensorflow-intel==2.13.0-rc2->tensorflow==2.13.0rc2) (0.31.0)\n",
      "Requirement already satisfied: wheel<1.0,>=0.23.0 in c:\\users\\crazy\\appdata\\local\\programs\\python\\python310\\lib\\site-packages (from astunparse>=1.6.0->tensorflow-intel==2.13.0-rc2->tensorflow==2.13.0rc2) (0.40.0)\n",
      "Requirement already satisfied: google-auth<3,>=1.6.3 in c:\\users\\crazy\\appdata\\local\\programs\\python\\python310\\lib\\site-packages (from tensorboard<2.14,>=2.13->tensorflow-intel==2.13.0-rc2->tensorflow==2.13.0rc2) (2.21.0)\n",
      "Requirement already satisfied: google-auth-oauthlib<1.1,>=0.5 in c:\\users\\crazy\\appdata\\local\\programs\\python\\python310\\lib\\site-packages (from tensorboard<2.14,>=2.13->tensorflow-intel==2.13.0-rc2->tensorflow==2.13.0rc2) (1.0.0)\n",
      "Requirement already satisfied: markdown>=2.6.8 in c:\\users\\crazy\\appdata\\local\\programs\\python\\python310\\lib\\site-packages (from tensorboard<2.14,>=2.13->tensorflow-intel==2.13.0-rc2->tensorflow==2.13.0rc2) (3.4.3)\n",
      "Requirement already satisfied: requests<3,>=2.21.0 in c:\\users\\crazy\\appdata\\local\\programs\\python\\python310\\lib\\site-packages (from tensorboard<2.14,>=2.13->tensorflow-intel==2.13.0-rc2->tensorflow==2.13.0rc2) (2.31.0)\n",
      "Requirement already satisfied: tensorboard-data-server<0.8.0,>=0.7.0 in c:\\users\\crazy\\appdata\\local\\programs\\python\\python310\\lib\\site-packages (from tensorboard<2.14,>=2.13->tensorflow-intel==2.13.0-rc2->tensorflow==2.13.0rc2) (0.7.1)\n",
      "Requirement already satisfied: werkzeug>=1.0.1 in c:\\users\\crazy\\appdata\\local\\programs\\python\\python310\\lib\\site-packages (from tensorboard<2.14,>=2.13->tensorflow-intel==2.13.0-rc2->tensorflow==2.13.0rc2) (2.3.6)\n",
      "Requirement already satisfied: cachetools<6.0,>=2.0.0 in c:\\users\\crazy\\appdata\\local\\programs\\python\\python310\\lib\\site-packages (from google-auth<3,>=1.6.3->tensorboard<2.14,>=2.13->tensorflow-intel==2.13.0-rc2->tensorflow==2.13.0rc2) (5.3.1)\n",
      "Requirement already satisfied: pyasn1-modules>=0.2.1 in c:\\users\\crazy\\appdata\\local\\programs\\python\\python310\\lib\\site-packages (from google-auth<3,>=1.6.3->tensorboard<2.14,>=2.13->tensorflow-intel==2.13.0-rc2->tensorflow==2.13.0rc2) (0.3.0)\n",
      "Requirement already satisfied: rsa<5,>=3.1.4 in c:\\users\\crazy\\appdata\\local\\programs\\python\\python310\\lib\\site-packages (from google-auth<3,>=1.6.3->tensorboard<2.14,>=2.13->tensorflow-intel==2.13.0-rc2->tensorflow==2.13.0rc2) (4.9)\n",
      "Requirement already satisfied: urllib3<2.0 in c:\\users\\crazy\\appdata\\local\\programs\\python\\python310\\lib\\site-packages (from google-auth<3,>=1.6.3->tensorboard<2.14,>=2.13->tensorflow-intel==2.13.0-rc2->tensorflow==2.13.0rc2) (1.26.16)\n",
      "Requirement already satisfied: requests-oauthlib>=0.7.0 in c:\\users\\crazy\\appdata\\local\\programs\\python\\python310\\lib\\site-packages (from google-auth-oauthlib<1.1,>=0.5->tensorboard<2.14,>=2.13->tensorflow-intel==2.13.0-rc2->tensorflow==2.13.0rc2) (1.3.1)\n",
      "Requirement already satisfied: charset-normalizer<4,>=2 in c:\\users\\crazy\\appdata\\local\\programs\\python\\python310\\lib\\site-packages (from requests<3,>=2.21.0->tensorboard<2.14,>=2.13->tensorflow-intel==2.13.0-rc2->tensorflow==2.13.0rc2) (3.1.0)\n",
      "Requirement already satisfied: idna<4,>=2.5 in c:\\users\\crazy\\appdata\\local\\programs\\python\\python310\\lib\\site-packages (from requests<3,>=2.21.0->tensorboard<2.14,>=2.13->tensorflow-intel==2.13.0-rc2->tensorflow==2.13.0rc2) (3.4)\n",
      "Requirement already satisfied: certifi>=2017.4.17 in c:\\users\\crazy\\appdata\\local\\programs\\python\\python310\\lib\\site-packages (from requests<3,>=2.21.0->tensorboard<2.14,>=2.13->tensorflow-intel==2.13.0-rc2->tensorflow==2.13.0rc2) (2023.5.7)\n",
      "Requirement already satisfied: MarkupSafe>=2.1.1 in c:\\users\\crazy\\appdata\\local\\programs\\python\\python310\\lib\\site-packages (from werkzeug>=1.0.1->tensorboard<2.14,>=2.13->tensorflow-intel==2.13.0-rc2->tensorflow==2.13.0rc2) (2.1.3)\n",
      "Requirement already satisfied: pyasn1<0.6.0,>=0.4.6 in c:\\users\\crazy\\appdata\\local\\programs\\python\\python310\\lib\\site-packages (from pyasn1-modules>=0.2.1->google-auth<3,>=1.6.3->tensorboard<2.14,>=2.13->tensorflow-intel==2.13.0-rc2->tensorflow==2.13.0rc2) (0.5.0)\n",
      "Requirement already satisfied: oauthlib>=3.0.0 in c:\\users\\crazy\\appdata\\local\\programs\\python\\python310\\lib\\site-packages (from requests-oauthlib>=0.7.0->google-auth-oauthlib<1.1,>=0.5->tensorboard<2.14,>=2.13->tensorflow-intel==2.13.0-rc2->tensorflow==2.13.0rc2) (3.2.2)\n",
      "Installing collected packages: typing-extensions, tensorflow-estimator, keras, tensorboard, tensorflow-intel, tensorflow\n",
      "  Attempting uninstall: typing-extensions\n",
      "    Found existing installation: typing_extensions 4.6.3\n",
      "    Uninstalling typing_extensions-4.6.3:\n",
      "      Successfully uninstalled typing_extensions-4.6.3\n",
      "  Attempting uninstall: tensorflow-estimator\n",
      "    Found existing installation: tensorflow-estimator 2.12.0\n",
      "    Uninstalling tensorflow-estimator-2.12.0:\n",
      "      Successfully uninstalled tensorflow-estimator-2.12.0\n",
      "  Attempting uninstall: keras\n",
      "    Found existing installation: keras 2.12.0\n",
      "    Uninstalling keras-2.12.0:\n",
      "      Successfully uninstalled keras-2.12.0\n",
      "  Attempting uninstall: tensorboard\n",
      "    Found existing installation: tensorboard 2.12.3\n",
      "    Uninstalling tensorboard-2.12.3:\n",
      "      Successfully uninstalled tensorboard-2.12.3\n",
      "  Attempting uninstall: tensorflow-intel\n",
      "    Found existing installation: tensorflow-intel 2.12.0\n",
      "    Uninstalling tensorflow-intel-2.12.0:\n",
      "      Successfully uninstalled tensorflow-intel-2.12.0\n",
      "  Attempting uninstall: tensorflow\n",
      "    Found existing installation: tensorflow 2.12.0\n",
      "    Uninstalling tensorflow-2.12.0:\n",
      "      Successfully uninstalled tensorflow-2.12.0\n",
      "Successfully installed keras-2.13.1 tensorboard-2.13.0 tensorflow-2.13.0rc2 tensorflow-estimator-2.13.0 tensorflow-intel-2.13.0rc2 typing-extensions-4.5.0\n"
     ]
    }
   ],
   "source": [
    "!pip install tensorflow==2.13.0rc2"
   ]
  },
  {
   "cell_type": "code",
   "execution_count": null,
   "id": "ef5efb0c",
   "metadata": {},
   "outputs": [],
   "source": []
  }
 ],
 "metadata": {
  "kernelspec": {
   "display_name": "Python 3 (ipykernel)",
   "language": "python",
   "name": "python3"
  },
  "language_info": {
   "codemirror_mode": {
    "name": "ipython",
    "version": 3
   },
   "file_extension": ".py",
   "mimetype": "text/x-python",
   "name": "python",
   "nbconvert_exporter": "python",
   "pygments_lexer": "ipython3",
   "version": "3.9.1"
  }
 },
 "nbformat": 4,
 "nbformat_minor": 5
}

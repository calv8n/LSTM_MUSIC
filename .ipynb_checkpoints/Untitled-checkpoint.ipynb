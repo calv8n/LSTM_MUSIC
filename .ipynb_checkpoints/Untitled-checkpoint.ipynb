{
 "cells": [
  {
   "cell_type": "code",
   "execution_count": 1,
   "id": "e4149424",
   "metadata": {},
   "outputs": [],
   "source": [
    "import os\n",
    "import music21 as m21\n",
    "import numpy as np\n",
    "import matplotlib.pyplot as plt"
   ]
  },
  {
   "cell_type": "code",
   "execution_count": 2,
   "id": "008a30ed",
   "metadata": {},
   "outputs": [],
   "source": [
    "#os.chdir('../../')"
   ]
  },
  {
   "cell_type": "code",
   "execution_count": 3,
   "id": "327264e4",
   "metadata": {},
   "outputs": [],
   "source": [
    "# Distance = summation(for i = 1 to n, |min(pi - ch)|)\n",
    "# pi -> note in a bar\n",
    "# ch - > component note of a specific chord"
   ]
  },
  {
   "cell_type": "code",
   "execution_count": 41,
   "id": "0fc44cf2",
   "metadata": {},
   "outputs": [],
   "source": [
    "MIDI_FILE = 'mel_0.9.mid'\n",
    "song = m21.converter.parse(MIDI_FILE)"
   ]
  },
  {
   "cell_type": "code",
   "execution_count": 42,
   "id": "b97c2c65",
   "metadata": {},
   "outputs": [
    {
     "data": {
      "text/plain": [
       "<music21.stream.Score 0x1dc8ce94a90>"
      ]
     },
     "execution_count": 42,
     "metadata": {},
     "output_type": "execute_result"
    }
   ],
   "source": [
    "song"
   ]
  },
  {
   "cell_type": "code",
   "execution_count": 6,
   "id": "6c50271e",
   "metadata": {},
   "outputs": [],
   "source": [
    "def transpose(song):\n",
    "    # get key from the song\n",
    "    parts = song.getElementsByClass(m21.stream.Part)\n",
    "    measures_part0 = parts[0].getElementsByClass(m21.stream.Measure)\n",
    "    key = measures_part0[0][4]\n",
    "\n",
    "    # estimate key using music21\n",
    "    if not isinstance(key, m21.key.Key):\n",
    "        key = song.analyze(\"key\")\n",
    "\n",
    "    # get interval for transposition. E.g., Bmaj -> Cmaj\n",
    "    if key.mode == \"major\":\n",
    "        interval = m21.interval.Interval(key.tonic, m21.pitch.Pitch(\"C\"))\n",
    "    elif key.mode == \"minor\":\n",
    "        interval = m21.interval.Interval(key.tonic, m21.pitch.Pitch(\"A\"))\n",
    "\n",
    "    # transpose song by calculated interval\n",
    "    tranposed_song = song.transpose(interval)\n",
    "    return tranposed_song"
   ]
  },
  {
   "cell_type": "code",
   "execution_count": 7,
   "id": "7d17a37a",
   "metadata": {},
   "outputs": [],
   "source": [
    "song = transpose(song)"
   ]
  },
  {
   "cell_type": "code",
   "execution_count": 43,
   "id": "0e659328",
   "metadata": {},
   "outputs": [
    {
     "data": {
      "text/plain": [
       "<music21.stream.Score 0x1dc8ce94a90>"
      ]
     },
     "execution_count": 43,
     "metadata": {},
     "output_type": "execute_result"
    }
   ],
   "source": [
    "song"
   ]
  },
  {
   "cell_type": "code",
   "execution_count": 44,
   "id": "d4f6fd30",
   "metadata": {},
   "outputs": [],
   "source": [
    "chord_dict = {\n",
    "    1: [[60,72],[64,76],[67,79]],\n",
    "    2: [[62,74],[65,77],[69,81]],\n",
    "    3: [[64,76],[67,79],[71,83]],\n",
    "    4: [[65,77],[69,81],[72,84]],\n",
    "    5: [[67,79],[69,81],[74,86]],\n",
    "    6: [[69,81],[72,84],[76,88]],\n",
    "}"
   ]
  },
  {
   "cell_type": "code",
   "execution_count": 127,
   "id": "d72baf05",
   "metadata": {},
   "outputs": [],
   "source": [
    "# Chord Distance"
   ]
  },
  {
   "cell_type": "code",
   "execution_count": 45,
   "id": "e283b3f4",
   "metadata": {},
   "outputs": [],
   "source": [
    "def encode_song(song, time_step=0.25):\n",
    "    encoded_song = []\n",
    "\n",
    "    for event in song.flat.notesAndRests:\n",
    "\n",
    "        # handle notes\n",
    "        if isinstance(event, m21.note.Note):\n",
    "            symbol = event.pitch.midi # 60\n",
    "        # handle rests\n",
    "        elif isinstance(event, m21.note.Rest):\n",
    "            continue\n",
    "\n",
    "        # convert the note/rest into time series notation\n",
    "        steps = int(event.duration.quarterLength / time_step)\n",
    "        for step in range(steps):\n",
    "\n",
    "            # if it's the first time we see a note/rest, let's encode it. Otherwise, it means we're carrying the same\n",
    "            # symbol in a new time step\n",
    "            if step == 0:\n",
    "                encoded_song.append(symbol)\n",
    "            else:\n",
    "                encoded_song.append(symbol)\n",
    "\n",
    "    # cast encoded song to str\n",
    "    \n",
    "\n",
    "    return encoded_song"
   ]
  },
  {
   "cell_type": "code",
   "execution_count": 138,
   "id": "dda7bff5",
   "metadata": {},
   "outputs": [],
   "source": [
    "'''chord_dict = {\n",
    "    1: [[60,72],[64,76],[67,79]],\n",
    "    2: [[62,74],[65,77],[69,81]],\n",
    "    3: [[64,76],[67,79],[71,83]],\n",
    "    4: [[65,77],[69,81],[72,84]],\n",
    "    5: [[67,79],[69,81],[74,86]],\n",
    "    6: [[69,81],[72,84],[76,88]],\n",
    "}'''\n",
    "def distance_with_chords(song):\n",
    "    distance = []\n",
    "    min_distance = 999\n",
    "    distance_total = []\n",
    "    total = 0\n",
    "    for key in chord_dict:\n",
    "        for event in song:\n",
    "            min_distance = min(abs(event-chord_dict[key][0][0]),abs(event-chord_dict[key][0][1]),abs(event-chord_dict[key][1][0]),abs(event-chord_dict[key][1][1]),abs(event-chord_dict[key][2][0]),abs(event-chord_dict[key][2][1]))\n",
    "                                      \n",
    "        \n",
    "        distance_total.append(min_distance)\n",
    "        total = 0\n",
    "    return distance_total\n",
    "   \n",
    "    "
   ]
  },
  {
   "cell_type": "code",
   "execution_count": 139,
   "id": "a0b2fce7",
   "metadata": {},
   "outputs": [],
   "source": [
    "s = encode_song(song)"
   ]
  },
  {
   "cell_type": "code",
   "execution_count": 140,
   "id": "03065a60",
   "metadata": {},
   "outputs": [],
   "source": [
    "p = [60, 62, 67, 64, 65, 60, 62]"
   ]
  },
  {
   "cell_type": "code",
   "execution_count": 141,
   "id": "5db0b647",
   "metadata": {},
   "outputs": [],
   "source": [
    "d = distance_with_chords(p)"
   ]
  },
  {
   "cell_type": "code",
   "execution_count": 142,
   "id": "0e1577d2",
   "metadata": {},
   "outputs": [
    {
     "data": {
      "text/plain": [
       "[2, 0, 2, 3, 5, 7]"
      ]
     },
     "execution_count": 142,
     "metadata": {},
     "output_type": "execute_result"
    }
   ],
   "source": [
    "d"
   ]
  },
  {
   "cell_type": "code",
   "execution_count": 55,
   "id": "9d2f307d",
   "metadata": {},
   "outputs": [
    {
     "data": {
      "text/plain": [
       "230"
      ]
     },
     "execution_count": 55,
     "metadata": {},
     "output_type": "execute_result"
    }
   ],
   "source": [
    "len(s)\n"
   ]
  },
  {
   "cell_type": "code",
   "execution_count": 56,
   "id": "dae609d0",
   "metadata": {},
   "outputs": [
    {
     "data": {
      "text/plain": [
       "230"
      ]
     },
     "execution_count": 56,
     "metadata": {},
     "output_type": "execute_result"
    }
   ],
   "source": [
    "len(d)"
   ]
  },
  {
   "cell_type": "code",
   "execution_count": 126,
   "id": "f5fdab37",
   "metadata": {},
   "outputs": [],
   "source": [
    "# HitRatio\n"
   ]
  },
  {
   "cell_type": "code",
   "execution_count": null,
   "id": "6ee00dc6",
   "metadata": {},
   "outputs": [],
   "source": []
  }
 ],
 "metadata": {
  "kernelspec": {
   "display_name": "Python 3 (ipykernel)",
   "language": "python",
   "name": "python3"
  },
  "language_info": {
   "codemirror_mode": {
    "name": "ipython",
    "version": 3
   },
   "file_extension": ".py",
   "mimetype": "text/x-python",
   "name": "python",
   "nbconvert_exporter": "python",
   "pygments_lexer": "ipython3",
   "version": "3.11.2"
  }
 },
 "nbformat": 4,
 "nbformat_minor": 5
}
